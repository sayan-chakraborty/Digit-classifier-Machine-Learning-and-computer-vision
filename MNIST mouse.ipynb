{
 "cells": [
  {
   "cell_type": "code",
   "execution_count": 1,
   "metadata": {},
   "outputs": [
    {
     "name": "stderr",
     "output_type": "stream",
     "text": [
      "Using TensorFlow backend.\n"
     ]
    },
    {
     "name": "stdout",
     "output_type": "stream",
     "text": [
      "(60000, 10)\n",
      "(60000, 28, 28, 1)\n",
      "(10000, 10)\n",
      "(10000, 28, 28, 1)\n"
     ]
    }
   ],
   "source": [
    "import numpy as np\n",
    "from keras import layers\n",
    "from keras.layers import Input, Dense, Activation, ZeroPadding2D, BatchNormalization, Flatten, Conv2D\n",
    "from keras.layers import AveragePooling2D, MaxPooling2D, Dropout, GlobalMaxPooling2D, GlobalAveragePooling2D\n",
    "from keras.models import Model\n",
    "from keras.preprocessing import image\n",
    "from keras.utils import layer_utils\n",
    "from keras.utils.data_utils import get_file\n",
    "from keras.applications.imagenet_utils import preprocess_input\n",
    "import pydot\n",
    "from IPython.display import SVG\n",
    "from keras.utils.vis_utils import model_to_dot\n",
    "from keras.utils import plot_model\n",
    "import keras.backend as K\n",
    "K.set_image_data_format('channels_last')\n",
    "import numpy as np\n",
    "from keras.datasets import mnist #Keras is used only to get MNIST data\n",
    "(X_train, Y_train), (X_test, Y_test) = mnist.load_data()\n",
    "Y_train = Y_train.reshape(60000, 1).T \n",
    "b = np.zeros((60000, 10))\n",
    "b[np.arange(60000), Y_train] = 1\n",
    "Y_train = b #To convert to one hot matrix\n",
    "print(Y_train.shape)\n",
    "X_train = X_train.reshape(60000, 28, 28, 1)/255 #Divided by 255 to normalize the input data\n",
    "print(X_train.shape)\n",
    "Y_test = Y_test.reshape(10000, 1).T\n",
    "b = np.zeros((10000, 10))\n",
    "b[np.arange(10000), Y_test] = 1\n",
    "Y_test = b\n",
    "print(Y_test.shape)\n",
    "X_test = X_test.reshape(10000, 28, 28, 1)/255\n",
    "print(X_test.shape)"
   ]
  },
  {
   "cell_type": "code",
   "execution_count": 2,
   "metadata": {},
   "outputs": [],
   "source": [
    "def moodel(input_shape):\n",
    "\n",
    "    X_input = Input(input_shape)\n",
    "\n",
    "  \n",
    "    X = ZeroPadding2D((1, 1))(X_input)\n",
    "\n",
    "    X = Conv2D(32, (3, 3), strides = (1, 1), name = 'conv0')(X)\n",
    "    X = BatchNormalization(axis = 3, name = 'bn0')(X)\n",
    "    X = Activation('relu')(X)\n",
    "\n",
    "    \n",
    "    X = MaxPooling2D((2, 2), name='max_pool')(X)\n",
    "    \n",
    "    X = ZeroPadding2D((2, 2))(X_input)\n",
    "    \n",
    "    X = Conv2D(32, (5, 5), strides = (2, 2), name = 'conv1')(X)\n",
    "    X = BatchNormalization(axis = 3, name = 'bn1')(X)\n",
    "    X = Activation('relu')(X)\n",
    "\n",
    "    \n",
    "    X = MaxPooling2D((2, 2), name='max_pool')(X)\n",
    "\n",
    "    X = Flatten()(X)\n",
    "    X = Dense(10, activation='softmax', name='fc')(X)\n",
    "    model = Model(inputs = X_input, outputs = X, name='HappyModel')\n",
    "\n",
    "    \n",
    "    return model"
   ]
  },
  {
   "cell_type": "code",
   "execution_count": 3,
   "metadata": {},
   "outputs": [
    {
     "name": "stdout",
     "output_type": "stream",
     "text": [
      "WARNING:tensorflow:From C:\\Users\\Sayan\\Anaconda3\\lib\\site-packages\\tensorflow\\python\\framework\\op_def_library.py:263: colocate_with (from tensorflow.python.framework.ops) is deprecated and will be removed in a future version.\n",
      "Instructions for updating:\n",
      "Colocations handled automatically by placer.\n",
      "WARNING:tensorflow:From C:\\Users\\Sayan\\Anaconda3\\lib\\site-packages\\tensorflow\\python\\ops\\math_ops.py:3066: to_int32 (from tensorflow.python.ops.math_ops) is deprecated and will be removed in a future version.\n",
      "Instructions for updating:\n",
      "Use tf.cast instead.\n",
      "Epoch 1/10\n",
      "60000/60000 [==============================] - 23s 379us/step - loss: 0.0422 - acc: 0.9862\n",
      "Epoch 2/10\n",
      "60000/60000 [==============================] - 26s 431us/step - loss: 0.0156 - acc: 0.9949\n",
      "Epoch 3/10\n",
      "60000/60000 [==============================] - 26s 438us/step - loss: 0.0117 - acc: 0.9962\n",
      "Epoch 4/10\n",
      "60000/60000 [==============================] - 26s 437us/step - loss: 0.0099 - acc: 0.9967\n",
      "Epoch 5/10\n",
      "60000/60000 [==============================] - 26s 435us/step - loss: 0.0085 - acc: 0.9971\n",
      "Epoch 6/10\n",
      "60000/60000 [==============================] - 27s 442us/step - loss: 0.0075 - acc: 0.9975\n",
      "Epoch 7/10\n",
      "60000/60000 [==============================] - 27s 442us/step - loss: 0.0067 - acc: 0.9978\n",
      "Epoch 8/10\n",
      "60000/60000 [==============================] - 26s 440us/step - loss: 0.0065 - acc: 0.9977\n",
      "Epoch 9/10\n",
      "60000/60000 [==============================] - 27s 443us/step - loss: 0.0056 - acc: 0.99822s - loss: 0.0056 - acc: \n",
      "Epoch 10/10\n",
      "60000/60000 [==============================] - 27s 443us/step - loss: 0.0056 - acc: 0.9981\n"
     ]
    },
    {
     "data": {
      "text/plain": [
       "<keras.callbacks.History at 0x156d70c77b8>"
      ]
     },
     "execution_count": 3,
     "metadata": {},
     "output_type": "execute_result"
    }
   ],
   "source": [
    "moo = moodel(X_train.shape[1:4])\n",
    "moo.compile(optimizer = \"Adam\", loss = \"binary_crossentropy\", metrics = [\"accuracy\"])\n",
    "moo.fit(x = X_train, y = Y_train, epochs = 10, batch_size = 128)"
   ]
  },
  {
   "cell_type": "code",
   "execution_count": 105,
   "metadata": {},
   "outputs": [
    {
     "name": "stdout",
     "output_type": "stream",
     "text": [
      "[3]\n"
     ]
    }
   ],
   "source": [
    "imgg = cv.imread('sample7.png',0)\n",
    "X = cv.resize(imgg, (28, 28), interpolation = cv.INTER_CUBIC)\n",
    "X = X.reshape(1, 28, 28, 1)\n",
    "Y_ = moo.predict(X)\n",
    "Y = Y_.argmax(axis=1)\n",
    "print(Y)"
   ]
  },
  {
   "cell_type": "code",
   "execution_count": null,
   "metadata": {},
   "outputs": [],
   "source": [
    "import numpy as np\n",
    "import cv2 as cv\n",
    "drawing = False # true if mouse is pressed\n",
    "ix,iy = -1,-1\n",
    "# mouse callback function\n",
    "def draw_circle(event,x,y,flags,param):\n",
    "    global ix,iy,drawing,mode\n",
    "    if event == cv.EVENT_LBUTTONDOWN:\n",
    "        drawing = True\n",
    "        ix,iy = x,y\n",
    "    elif event == cv.EVENT_MOUSEMOVE:\n",
    "        if drawing == True:\n",
    "            cv.circle(img,(ix,iy),10,(255,255,255),-1)\n",
    "            cv.line(img,(ix,iy),(x,y),(255, 255, 255),20) # draw line between former and present pixel\n",
    "            ix=x # save former x coordinate\n",
    "            iy=y # save former y coordinate\n",
    "    elif event == cv.EVENT_LBUTTONUP:\n",
    "        drawing = False"
   ]
  },
  {
   "cell_type": "code",
   "execution_count": null,
   "metadata": {},
   "outputs": [],
   "source": [
    "img = np.zeros((512,512,1), np.uint8)\n",
    "cv.namedWindow('image')\n",
    "cv.setMouseCallback('image',draw_circle)\n",
    "while(1):\n",
    "    cv.imshow('image',img)\n",
    "    k = cv.waitKey(1) & 0xFF\n",
    "    if k == 27:\n",
    "        img1 = cv.resize(img, (28, 28), interpolation = cv.INTER_CUBIC)\n",
    "        cv.imwrite('moo.png', img1)\n",
    "        break\n",
    "cv.destroyAllWindows()\n",
    "mo = cv.imread('moo.png',0)\n",
    "X = mo.reshape(1, 28, 28, 1)\n",
    "Y_ = moo.predict(X)\n",
    "Y = Y_.argmax(axis=1)\n",
    "print(Y)"
   ]
  }
 ],
 "metadata": {
  "kernelspec": {
   "display_name": "Python 3",
   "language": "python",
   "name": "python3"
  },
  "language_info": {
   "codemirror_mode": {
    "name": "ipython",
    "version": 3
   },
   "file_extension": ".py",
   "mimetype": "text/x-python",
   "name": "python",
   "nbconvert_exporter": "python",
   "pygments_lexer": "ipython3",
   "version": "3.7.3"
  }
 },
 "nbformat": 4,
 "nbformat_minor": 2
}
