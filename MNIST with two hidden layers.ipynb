{
 "cells": [
  {
   "cell_type": "code",
   "execution_count": null,
   "metadata": {},
   "outputs": [],
   "source": [
    "import numpy as np \n",
    "from keras.datasets import mnist #Keras is used only to get MNIST data\n",
    "(X_train, Y_train), (X_test, Y_test) = mnist.load_data()\n",
    "Y_train = Y_train.reshape(60000, 1).T \n",
    "b = np.zeros((60000, 10))\n",
    "b[np.arange(60000), Y_train] = 1\n",
    "Y_train = b.T #To convert to one hot matrix\n",
    "print(Y_train.shape)\n",
    "X_train = X_train.reshape(60000, 28, 28, 1)/255 #Divided by 255 to normalize the input data\n",
    "X_train = X_train.reshape(X_train.shape[0], -1).T #We use -1 because numpy will itself figure out what -1 is by looking at length of tha array and the remaining dimensions\n",
    "print(X_train.shape)\n",
    "Y_test = Y_test.reshape(10000, 1).T\n",
    "b = np.zeros((10000, 10))\n",
    "b[np.arange(10000), Y_test] = 1\n",
    "Y_test = b.T\n",
    "print(Y_test.shape)\n",
    "X_test = X_test.reshape(10000, 28, 28, 1)/255\n",
    "X_test = X_test.reshape(X_test.shape[0], -1).T\n",
    "print(X_test.shape)\n",
    "def relu(z):\n",
    "    z = z * (z > 0)\n",
    "    return z\n",
    "def softmax(x):\n",
    "    return np.exp(x) / np.sum(np.exp(x), axis=0)\n",
    "learning_rate = 1\n",
    "m = 60000"
   ]
  },
  {
   "cell_type": "code",
   "execution_count": null,
   "metadata": {},
   "outputs": [],
   "source": [
    "W1 = np.random.randn(64, 784) * 0.01 #0.01 is multiplied to make gradient descent faster\n",
    "#W's are initialized randomly in order to break symmetry\n",
    "b1 = np.zeros((64, 1))\n",
    "W2 = np.random.randn(32, 64) * 0.01\n",
    "b2 = np.zeros((32, 1))\n",
    "W3 = np.random.randn(10, 32) * 0.01\n",
    "b3 = np.zeros((10, 1))\n",
    "for i in range(2000):\n",
    "    #Forward propagation\n",
    "    Z1 = np.matmul(W1, X_train) + b1\n",
    "    A1 = relu(Z1)\n",
    "    Z2 = np.matmul(W2, A1) + b2\n",
    "    A2 = relu(Z2)\n",
    "    Z3 = np.matmul(W3, A2) + b3\n",
    "    A3 = softmax(Z3)\n",
    "    cost = np.sum(np.multiply(np.log(A3), Y_train))/ (-60000)\n",
    "    print(cost)\n",
    "    #Backward propagation\n",
    "    dZ3 = A3 - Y_train\n",
    "    dW3 = (1./60000) * np.matmul(dZ3, A2.T)\n",
    "    db3 = (1./60000) * np.sum(dZ3, axis=1, keepdims=True)\n",
    "    dA2 = np.matmul(W3.T, dZ3)\n",
    "    dZ2 = dA2 * (1 * (Z2 > 0))\n",
    "    dW2 = (1./60000) * np.matmul(dZ2, A1.T)\n",
    "    db2 = (1./60000) * np.sum(dZ2, axis=1, keepdims=True)\n",
    "    dA1 = np.matmul(W2.T, dZ2)\n",
    "    dZ1 = dA1 * (1 * (Z1 > 0))\n",
    "    dW1 = (1./m) * np.matmul(dZ1, X_train.T)\n",
    "    db1 = (1./m) * np.sum(dZ1, axis=1, keepdims=True)\n",
    "    W3 = W3 - learning_rate * dW3\n",
    "    b3 = b3 - learning_rate * db3\n",
    "    W2 = W2 - learning_rate * dW2\n",
    "    b2 = b2 - learning_rate * db2\n",
    "    W1 = W1 - learning_rate * dW1\n",
    "    b1 = b1 - learning_rate * db1"
   ]
  },
  {
   "cell_type": "code",
   "execution_count": null,
   "metadata": {},
   "outputs": [],
   "source": [
    "#Finding out the accuracy\n",
    "Z1 = np.matmul(W1, X_test) + b1\n",
    "A1 = relu(Z1)\n",
    "Z2 = np.matmul(W2, A1) + b2\n",
    "A2 = np.exp(Z2) / np.sum(np.exp(Z2), axis=0)\n",
    "predictions = np.argmax(A2, axis=0) #np.argmax axis = 0 return the values of the maximum indices along the columns\n",
    "labels = np.argmax(Y_test, axis=0)\n",
    "p = np.zeros((10000,))\n",
    "for i in range(10000):\n",
    "    if predictions[i] == labels[i]:\n",
    "        p[i] = 1\n",
    "    else:\n",
    "        p[i] = 0\n",
    "count = 0\n",
    "for i in range(10000):\n",
    "    if p[i] == 1:\n",
    "        count = count + 1\n",
    "accuracy = count / 100\n",
    "print('The accuracy is ' + str(accuracy) + ' %.')"
   ]
  },
  {
   "cell_type": "code",
   "execution_count": null,
   "metadata": {},
   "outputs": [],
   "source": []
  }
 ],
 "metadata": {
  "kernelspec": {
   "display_name": "Python 3",
   "language": "python",
   "name": "python3"
  },
  "language_info": {
   "codemirror_mode": {
    "name": "ipython",
    "version": 3
   },
   "file_extension": ".py",
   "mimetype": "text/x-python",
   "name": "python",
   "nbconvert_exporter": "python",
   "pygments_lexer": "ipython3",
   "version": "3.7.3"
  }
 },
 "nbformat": 4,
 "nbformat_minor": 2
}
